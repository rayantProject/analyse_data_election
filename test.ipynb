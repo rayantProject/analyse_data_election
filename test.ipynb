{
 "cells": [
  {
   "cell_type": "code",
   "execution_count": 5,
   "metadata": {},
   "outputs": [
    {
     "name": "stdout",
     "output_type": "stream",
     "text": [
      "  Code du département Libellé du département  Code de la commune  \\\n",
      "0                  01                    Ain                   1   \n",
      "1                  01                    Ain                   2   \n",
      "2                  01                    Ain                   4   \n",
      "3                  01                    Ain                   5   \n",
      "4                  01                    Ain                   6   \n",
      "\n",
      "     Libellé de la commune  Inscrits  Abstentions  % Abs/Ins  Votants  \\\n",
      "0  L'Abergement-Clémenciat       645          108      16.74      537   \n",
      "1    L'Abergement-de-Varey       213           38      17.84      175   \n",
      "2        Ambérieu-en-Bugey      8765         2078      23.71     6687   \n",
      "3      Ambérieux-en-Dombes      1282          234      18.25     1048   \n",
      "4                  Ambléon       103           23      22.33       80   \n",
      "\n",
      "   % Vot/Ins  Blancs  ...  POUTOU  PHILIPPE  Voix Philippe Poutou  \\\n",
      "0      83.26      16  ...  POUTOU  Philippe                     3   \n",
      "1      82.16       3  ...  POUTOU  Philippe                     3   \n",
      "2      76.29      88  ...  POUTOU  Philippe                    43   \n",
      "3      81.75      14  ...  POUTOU  Philippe                     2   \n",
      "4      77.67       3  ...  POUTOU  Philippe                     0   \n",
      "\n",
      "   Voix/Ins Philippe Poutou  Voix/Exp Philippe Poutou  DUPONT-AIGNAN  NICOLAS  \\\n",
      "0                      0.47                      0.58  DUPONT-AIGNAN  Nicolas   \n",
      "1                      1.41                      1.75  DUPONT-AIGNAN  Nicolas   \n",
      "2                      0.49                      0.66  DUPONT-AIGNAN  Nicolas   \n",
      "3                      0.16                      0.19  DUPONT-AIGNAN  Nicolas   \n",
      "4                      0.00                      0.00  DUPONT-AIGNAN  Nicolas   \n",
      "\n",
      "   Voix Nicolas Dupont-Aignan  Voix/Ins Nicolas Dupont-Aignan  \\\n",
      "0                          21                            3.26   \n",
      "1                           0                            0.00   \n",
      "2                         181                            2.07   \n",
      "3                          27                            2.11   \n",
      "4                           1                            0.97   \n",
      "\n",
      "  Voix/Exp Nicolas Dupont-Aignan  \n",
      "0                           4.04  \n",
      "1                           0.00  \n",
      "2                           2.76  \n",
      "3                           2.63  \n",
      "4                           1.30  \n",
      "\n",
      "[5 rows x 79 columns]\n"
     ]
    }
   ],
   "source": [
    "from src.analyse.First_round import First_round_analyse as First_round\n",
    "\n",
    "if __name__ == \"__main__\":\n",
    "    test = First_round()\n",
    "    \n",
    "print(test.get_data().head())\n"
   ]
  }
 ],
 "metadata": {
  "kernelspec": {
   "display_name": "venv",
   "language": "python",
   "name": "python3"
  },
  "language_info": {
   "codemirror_mode": {
    "name": "ipython",
    "version": 3
   },
   "file_extension": ".py",
   "mimetype": "text/x-python",
   "name": "python",
   "nbconvert_exporter": "python",
   "pygments_lexer": "ipython3",
   "version": "3.11.6"
  }
 },
 "nbformat": 4,
 "nbformat_minor": 2
}
